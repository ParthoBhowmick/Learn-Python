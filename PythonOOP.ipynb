{
 "cells": [
  {
   "cell_type": "code",
   "execution_count": 9,
   "metadata": {},
   "outputs": [],
   "source": [
    "class Computer : \n",
    "    \n",
    "    def __init__(self,cpu,ram):\n",
    "        self.cpu = cpu\n",
    "        self.ram = ram\n",
    "    \n",
    "    def config(self) : \n",
    "        print(self.cpu + \"  \" + self.ram +  \"  1TB\")"
   ]
  },
  {
   "cell_type": "code",
   "execution_count": 11,
   "metadata": {},
   "outputs": [
    {
     "name": "stdout",
     "output_type": "stream",
     "text": [
      "i7  16gb  1TB\n"
     ]
    }
   ],
   "source": [
    "com1 = Computer('i7','16gb')\n",
    "Computer.config(com1)"
   ]
  },
  {
   "cell_type": "code",
   "execution_count": 18,
   "metadata": {},
   "outputs": [],
   "source": [
    "class Person : \n",
    "    \n",
    "    def __init__(self):\n",
    "        self.name = 'jack'\n",
    "        self.age = 30\n",
    "    \n",
    "    def compare(self,another): \n",
    "        if(self.age==another.age): \n",
    "            print('Both are same age')\n",
    "        elif (self.age>another.age):\n",
    "            print(self.name + \" is older than \" + another.name)\n",
    "        else:\n",
    "            print(another.name + \" is older than \" + self.name)\n",
    "            \n",
    "            "
   ]
  },
  {
   "cell_type": "code",
   "execution_count": 21,
   "metadata": {},
   "outputs": [
    {
     "name": "stdout",
     "output_type": "stream",
     "text": [
      "jack is older than brown\n"
     ]
    }
   ],
   "source": [
    "person1 = Person()\n",
    "person2 = Person()\n",
    "person2.name = 'brown'\n",
    "person2.age = 18\n",
    "person1.compare(person2)"
   ]
  },
  {
   "cell_type": "code",
   "execution_count": null,
   "metadata": {},
   "outputs": [],
   "source": []
  }
 ],
 "metadata": {
  "kernelspec": {
   "display_name": "Python 3",
   "language": "python",
   "name": "python3"
  },
  "language_info": {
   "codemirror_mode": {
    "name": "ipython",
    "version": 3
   },
   "file_extension": ".py",
   "mimetype": "text/x-python",
   "name": "python",
   "nbconvert_exporter": "python",
   "pygments_lexer": "ipython3",
   "version": "3.7.3"
  }
 },
 "nbformat": 4,
 "nbformat_minor": 2
}
